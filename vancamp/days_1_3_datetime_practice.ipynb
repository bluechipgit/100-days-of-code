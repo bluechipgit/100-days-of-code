{
 "cells": [
  {
   "attachments": {},
   "cell_type": "markdown",
   "metadata": {},
   "source": [
    "# 100 Days of Code: Days 1-3, datetime and timedelta"
   ]
  },
  {
   "attachments": {},
   "cell_type": "markdown",
   "metadata": {},
   "source": [
    "### Day 1: DateTime"
   ]
  },
  {
   "cell_type": "code",
   "execution_count": 14,
   "metadata": {},
   "outputs": [],
   "source": [
    "# Import required modules\n",
    "from datetime import datetime\n",
    "from datetime import date\n",
    "from datetime import timedelta"
   ]
  },
  {
   "cell_type": "code",
   "execution_count": 4,
   "metadata": {},
   "outputs": [
    {
     "name": "stdout",
     "output_type": "stream",
     "text": [
      "2023-01-18 09:56:11.609612\n"
     ]
    },
    {
     "data": {
      "text/plain": [
       "datetime.datetime"
      ]
     },
     "execution_count": 4,
     "metadata": {},
     "output_type": "execute_result"
    }
   ],
   "source": [
    "# Assign variable 'today' to todays datetime\n",
    "today = datetime.today()\n",
    "\n",
    "# Print 'today'\n",
    "print(today)\n",
    "\n",
    "# Check 'today' variable type\n",
    "type(today)"
   ]
  },
  {
   "cell_type": "code",
   "execution_count": 6,
   "metadata": {},
   "outputs": [
    {
     "name": "stdout",
     "output_type": "stream",
     "text": [
      "2023-01-18\n"
     ]
    },
    {
     "data": {
      "text/plain": [
       "datetime.date"
      ]
     },
     "execution_count": 6,
     "metadata": {},
     "output_type": "execute_result"
    }
   ],
   "source": [
    "# Create variable for 'date' type\n",
    "todaydate = date.today()\n",
    "\n",
    "# print 'todaydate'\n",
    "print(todaydate)\n",
    "\n",
    "# Check 'todaydate' variable type\n",
    "type(todaydate)"
   ]
  },
  {
   "cell_type": "code",
   "execution_count": 8,
   "metadata": {},
   "outputs": [
    {
     "name": "stdout",
     "output_type": "stream",
     "text": [
      "1\n",
      "18\n",
      "2023\n"
     ]
    }
   ],
   "source": [
    "# Parse 'todaydate' object and print results\n",
    "print(todaydate.month)\n",
    "print(todaydate.day)\n",
    "print(todaydate.year)"
   ]
  },
  {
   "cell_type": "code",
   "execution_count": 9,
   "metadata": {},
   "outputs": [
    {
     "name": "stdout",
     "output_type": "stream",
     "text": [
      "2023-12-25\n"
     ]
    }
   ],
   "source": [
    "# Set Christmas day\n",
    "christmas = date(2023, 12, 25)\n",
    "\n",
    "# Print Christmas\n",
    "print(christmas)"
   ]
  },
  {
   "cell_type": "code",
   "execution_count": 13,
   "metadata": {},
   "outputs": [
    {
     "name": "stdout",
     "output_type": "stream",
     "text": [
      "Sorry, there are still 341 until Christmas!\n"
     ]
    }
   ],
   "source": [
    "# Find timedelta from 'christmas' date\n",
    "(christmas-todaydate).days\n",
    "\n",
    "# Create if statement to tell the user how many days until Christmas if today's date is not equal to the 'christmas' variable\n",
    "if christmas != todaydate:\n",
    "    print(\"Sorry, there are still \" + str((christmas - todaydate).days) + \" until Christmas!\")\n",
    "else:\n",
    "    print(\"Yay, it's Christmas!\")"
   ]
  },
  {
   "cell_type": "code",
   "execution_count": 16,
   "metadata": {},
   "outputs": [
    {
     "name": "stdout",
     "output_type": "stream",
     "text": [
      "<class 'datetime.timedelta'>\n"
     ]
    }
   ],
   "source": [
    "# Assign timedelta variable\n",
    "t = timedelta(days=4, hours=10)\n",
    "\n",
    "# Print timedelta variable type\n",
    "print(type(t))"
   ]
  },
  {
   "cell_type": "code",
   "execution_count": 17,
   "metadata": {},
   "outputs": [
    {
     "name": "stdout",
     "output_type": "stream",
     "text": [
      "4\n",
      "36000\n"
     ]
    }
   ],
   "source": [
    "# Parse 't' variable and print results\n",
    "print(t.days)\n",
    "print(t.seconds)"
   ]
  },
  {
   "cell_type": "code",
   "execution_count": 18,
   "metadata": {},
   "outputs": [],
   "source": [
    "# Set 'eta' and 'today' variables\n",
    "eta = timedelta(hours=6)\n",
    "today = datetime.today()"
   ]
  },
  {
   "cell_type": "code",
   "execution_count": 19,
   "metadata": {},
   "outputs": [
    {
     "name": "stdout",
     "output_type": "stream",
     "text": [
      "2023-01-18 16:15:09.712190\n"
     ]
    }
   ],
   "source": [
    "# Combine variables setting the 'today + eta\" block as a string\n",
    "print(str(today+eta))"
   ]
  }
 ],
 "metadata": {
  "kernelspec": {
   "display_name": "dev",
   "language": "python",
   "name": "python3"
  },
  "language_info": {
   "codemirror_mode": {
    "name": "ipython",
    "version": 3
   },
   "file_extension": ".py",
   "mimetype": "text/x-python",
   "name": "python",
   "nbconvert_exporter": "python",
   "pygments_lexer": "ipython3",
   "version": "3.10.9"
  },
  "orig_nbformat": 4,
  "vscode": {
   "interpreter": {
    "hash": "4396f389b93e7269692bd3bea4c62813bbe379469bde939b058805f538feec11"
   }
  }
 },
 "nbformat": 4,
 "nbformat_minor": 2
}
